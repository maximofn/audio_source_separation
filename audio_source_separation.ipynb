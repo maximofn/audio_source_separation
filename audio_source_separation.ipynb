{
 "cells": [
  {
   "cell_type": "code",
   "execution_count": 1,
   "metadata": {},
   "outputs": [],
   "source": [
    "from video_to_audio import video_to_audio\n",
    "import time\n",
    "import os"
   ]
  },
  {
   "cell_type": "code",
   "execution_count": 2,
   "metadata": {},
   "outputs": [],
   "source": [
    "SAMPLE_RATE = 16000"
   ]
  },
  {
   "cell_type": "code",
   "execution_count": 3,
   "metadata": {},
   "outputs": [],
   "source": [
    "video_file = 'video.mp4'\n",
    "audio_file = 'audio.wav'\n",
    "if not os.path.exists(audio_file):\n",
    "    video_to_audio(video_file, audio_file)"
   ]
  },
  {
   "cell_type": "code",
   "execution_count": 4,
   "metadata": {},
   "outputs": [],
   "source": [
    "from speechbrain.pretrained import SepformerSeparation as separator\n",
    "import torchaudio"
   ]
  },
  {
   "cell_type": "code",
   "execution_count": 5,
   "metadata": {},
   "outputs": [],
   "source": [
    "pretrained_models = {\n",
    "    # \"sepformer-dns4-16k-enhancement\": {\n",
    "    #     \"source\": \"speechbrain/sepformer-dns4-16k-enhancement\",\n",
    "    #     \"savedir\": 'pretrained_models/sepformer-dns4-16k-enhancement',\n",
    "    #     \"sample_rate\": 16000\n",
    "    # },\n",
    "    \"sepformer-wsj02mix\": {\n",
    "        \"source\": \"speechbrain/sepformer-wsj02mix\",\n",
    "        \"savedir\": 'pretrained_models/sepformer-wsj02mix',\n",
    "        \"sample_rate\": 8000,\n",
    "    },\n",
    "    # \"sepformer-wsj03mix\": {\n",
    "    #     \"source\": \"speechbrain/sepformer-wsj03mix\",\n",
    "    #     \"savedir\": 'pretrained_models/sepformer-wsj03mix',\n",
    "    #     \"sample_rate\": 8000,\n",
    "    # },\n",
    "    \"sepformer-libri2mix\": {\n",
    "        \"source\": \"speechbrain/sepformer-libri2mix\",\n",
    "        \"savedir\": 'pretrained_models/sepformer-libri2mix',\n",
    "        \"sample_rate\": 8000,\n",
    "    },\n",
    "    # \"sepformer-libri3mix\": {\n",
    "    #     \"source\": \"speechbrain/sepformer-libri3mix\",\n",
    "    #     \"savedir\": 'pretrained_models/sepformer-libri3mix',\n",
    "    #     \"sample_rate\": 8000,\n",
    "    # },\n",
    "    # \"sepformer-whamr16k\": {\n",
    "    #     \"source\": \"speechbrain/sepformer-whamr16k\",\n",
    "    #     \"savedir\": 'pretrained_models/sepformer-whamr16k',\n",
    "    #     \"sample_rate\": 16000,\n",
    "    # },\n",
    "    # \"sepformer-wham16k-enhancement\": {\n",
    "    #     \"source\": \"speechbrain/sepformer-wham16k-enhancement\",\n",
    "    #     \"savedir\": 'pretrained_models/sepformer-wham16k-enhancement',\n",
    "    #     \"sample_rate\": 16000,\n",
    "    # },\n",
    "    # \"sepformer-wham\": {\n",
    "    #     \"source\": \"speechbrain/sepformer-whamr\",\n",
    "    #     \"savedir\": 'pretrained_models/sepformer-whamr',\n",
    "    #     \"sample_rate\": 8000,\n",
    "    # },\n",
    "    # \"sepformer-wham-enhancement\": {\n",
    "    #     \"source\": \"speechbrain/sepformer-whamr\",\n",
    "    #     \"savedir\": 'pretrained_models/sepformer-whamr',\n",
    "    #     \"sample_rate\": 8000,\n",
    "    # },\n",
    "    # \"sepformer-whamr\": {\n",
    "    #     \"source\": \"speechbrain/sepformer-whamr\",\n",
    "    #     \"savedir\": 'pretrained_models/sepformer-whamr',\n",
    "    #     \"sample_rate\": 8000,\n",
    "    # },\n",
    "    # \"sepformer-whamr-enhancement\": {\n",
    "    #     \"source\": \"speechbrain/sepformer-whamr-enhancement\",\n",
    "    #     \"savedir\": 'pretrained_models/sepformer-whamr-enhancement',\n",
    "    #     \"sample_rate\": 8000,\n",
    "    # },\n",
    "    # \"rescuespeech_sepformer\": {\n",
    "    #     \"source\": \"speechbrain/rescuespeech_sepformer\",\n",
    "    #     \"savedir\": 'pretrained_models/rescuespeech_sepformer',\n",
    "    #     \"sample_rate\": 16000,\n",
    "    # },\n",
    "    \"resepformer-wsj02mix\": {\n",
    "        \"source\": \"speechbrain/resepformer-wsj02mix\",\n",
    "        \"savedir\": 'pretrained_models/resepformer-wsj02mix',\n",
    "        \"sample_rate\": 8000,\n",
    "    },\n",
    "}"
   ]
  },
  {
   "cell_type": "code",
   "execution_count": 6,
   "metadata": {},
   "outputs": [
    {
     "name": "stdout",
     "output_type": "stream",
     "text": [
      "\n",
      "testing sepformer-wsj02mix model\n",
      "Resampling the audio from 44100 Hz to 8000 Hz\n",
      "elapsed time: 3.1 seconds with sepformer-wsj02mix model\n",
      "\n",
      "testing sepformer-libri2mix model\n",
      "Resampling the audio from 44100 Hz to 8000 Hz\n",
      "elapsed time: 0.5 seconds with sepformer-libri2mix model\n",
      "\n",
      "testing resepformer-wsj02mix model\n",
      "Resampling the audio from 44100 Hz to 8000 Hz\n",
      "elapsed time: 0.8 seconds with resepformer-wsj02mix model\n"
     ]
    }
   ],
   "source": [
    "for key in pretrained_models.keys():\n",
    "    print(f\"\\ntesting {key} model\")\n",
    "    t0 = time.time()\n",
    "    pretrained_model = pretrained_models[key]\n",
    "    model = separator.from_hparams(source=pretrained_model[\"source\"], savedir=pretrained_model[\"savedir\"], run_opts={\"device\":\"cuda\"})\n",
    "    estimated_sources = model.separate_file(path=audio_file)\n",
    "    t = time.time() - t0\n",
    "    print(f\"elapsed time: {t:.1f} seconds with {key} model\")\n",
    "\n",
    "    for i in range(0, estimated_sources.shape[2]):\n",
    "        torchaudio.save(f\"audio_{key}_source_{i}.wav\", estimated_sources[:, :, i].detach().cpu(), pretrained_model[\"sample_rate\"])"
   ]
  }
 ],
 "metadata": {
  "kernelspec": {
   "display_name": "audio_separation",
   "language": "python",
   "name": "python3"
  },
  "language_info": {
   "codemirror_mode": {
    "name": "ipython",
    "version": 3
   },
   "file_extension": ".py",
   "mimetype": "text/x-python",
   "name": "python",
   "nbconvert_exporter": "python",
   "pygments_lexer": "ipython3",
   "version": "3.11.5"
  }
 },
 "nbformat": 4,
 "nbformat_minor": 2
}
